{
 "cells": [
  {
   "cell_type": "code",
   "execution_count": 4,
   "metadata": {},
   "outputs": [],
   "source": [
    "from scipy.spatial import distance as dist\n",
    "from imutils import perspective\n",
    "from imutils import contours\n",
    "import numpy as np\n",
    "import argparse\n",
    "import imutils\n",
    "import cv2"
   ]
  },
  {
   "cell_type": "code",
   "execution_count": 7,
   "metadata": {},
   "outputs": [],
   "source": [
    "blur_kernel=9\n",
    "d_e_kernel=3\n",
    "canny_low=70\n",
    "canny_high=100\n",
    "image = cv2.imread('12.jpg')\n",
    "    # Chuyển thành ảnh xám\n",
    "image = cv2.resize(image, (400, 400))\n",
    "gray = cv2.cvtColor(image, cv2.COLOR_BGR2GRAY)\n",
    "    # Làm mờ ảnh\n",
    "gray = cv2.GaussianBlur(gray, (blur_kernel, blur_kernel), 0)\n",
    "\n",
    "    # Áp dụng Canny tìm cạnh\n",
    "edged = cv2.Canny(gray, canny_low, canny_high)\n",
    "edged = cv2.dilate(edged, (d_e_kernel, d_e_kernel), iterations=1)\n",
    "edged = cv2.erode(edged, (d_e_kernel, d_e_kernel), iterations=1)\n",
    "cv2.imshow('o', edged)\n",
    "if cv2.waitKey(0) == ord('q'):\n",
    "    cv2.destroyAllWindows()"
   ]
  },
  {
   "cell_type": "code",
   "execution_count": 39,
   "metadata": {},
   "outputs": [],
   "source": [
    "contours, hierarchy  = cv2.findContours(edged.copy(), cv2.RETR_EXTERNAL, cv2.CHAIN_APPROX_SIMPLE)\n",
    "cv2.drawContours(image, contours, -1, (0, 255, 0), 2)\n",
    "cv2.imshow('a', image)\n",
    "if cv2.waitKey(0) == ord('q'):\n",
    "    cv2.destroyAllWindows()"
   ]
  }
 ],
 "metadata": {
  "kernelspec": {
   "display_name": "Python 3",
   "language": "python",
   "name": "python3"
  },
  "language_info": {
   "codemirror_mode": {
    "name": "ipython",
    "version": 3
   },
   "file_extension": ".py",
   "mimetype": "text/x-python",
   "name": "python",
   "nbconvert_exporter": "python",
   "pygments_lexer": "ipython3",
   "version": "3.7.6"
  }
 },
 "nbformat": 4,
 "nbformat_minor": 4
}
